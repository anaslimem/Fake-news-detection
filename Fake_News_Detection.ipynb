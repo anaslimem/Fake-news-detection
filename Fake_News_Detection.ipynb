{
  "nbformat": 4,
  "nbformat_minor": 0,
  "metadata": {
    "colab": {
      "provenance": []
    },
    "kernelspec": {
      "name": "python3",
      "display_name": "Python 3"
    },
    "language_info": {
      "name": "python"
    }
  },
  "cells": [
    {
      "cell_type": "markdown",
      "source": [
        "#Fake News Detection\n"
      ],
      "metadata": {
        "id": "HGIG3Jnlu2yY"
      }
    },
    {
      "cell_type": "code",
      "execution_count": 4,
      "metadata": {
        "id": "OL3ucB24uu2U"
      },
      "outputs": [],
      "source": [
        "#import libraries\n",
        "import numpy as np\n",
        "import pandas as pd\n",
        "from sklearn.model_selection import train_test_split\n",
        "from sklearn.metrics import accuracy_score, confusion_matrix, classification_report, recall_score, precision_score, f1_score\n",
        "from sklearn.svm import SVC\n",
        "import nltk\n",
        "from nltk.stem import WordNetLemmatizer\n",
        "from gensim.models import Word2Vec\n",
        "import matplotlib.pyplot as plt\n",
        "import gradio as gr"
      ]
    },
    {
      "cell_type": "code",
      "source": [
        "#Pre Processing the data\n",
        "Truedata='/content/drive/MyDrive/Dataset/True.csv'\n",
        "FakeData='/content/drive/MyDrive/Dataset/Fake.csv'\n",
        "df1= pd.read_csv(FakeData)\n",
        "df2= pd.read_csv(Truedata)\n",
        "#Make all the data in lowercase\n",
        "df1=df1.apply(lambda x: x.str.lower() if(x.dtype == 'object') else x)\n",
        "df2=df2.apply(lambda x: x.str.lower() if(x.dtype == 'object') else x)\n",
        "#Tokenize the data\n",
        "nltk.download('punkt_tab')\n",
        "nltk.download('wordnet')\n",
        "df1['text']=df1['text'].apply(nltk.word_tokenize)\n",
        "df2['text']=df2['text'].apply(nltk.word_tokenize)\n",
        "df1['title']=df1['title'].apply(nltk.word_tokenize)\n",
        "df2['title']=df2['title'].apply(nltk.word_tokenize)\n",
        "df1['subject']=df1['subject'].apply(nltk.word_tokenize)\n",
        "df2['subject']=df2['subject'].apply(nltk.word_tokenize)\n",
        "#Lemmatizing words\n",
        "lemmatizer = WordNetLemmatizer()\n",
        "df1['text'] = df1['text'].apply(lambda x: [lemmatizer.lemmatize(y) for y in x])\n",
        "df2['text'] = df2['text'].apply(lambda x: [lemmatizer.lemmatize(y) for y in x])\n",
        "df1['title'] = df1['title'].apply(lambda x: [lemmatizer.lemmatize(y) for y in x])\n",
        "df2['title'] = df2['title'].apply(lambda x: [lemmatizer.lemmatize(y) for y in x])\n",
        "df1['subject'] = df1['subject'].apply(lambda x: [lemmatizer.lemmatize(y) for y in x])\n",
        "df2['subject'] = df2['subject'].apply(lambda x: [lemmatizer.lemmatize(y) for y in x])\n",
        "df1=train_test_split(df1, test_size=0.2, random_state=42)\n",
        "df2=train_test_split(df2, test_size=0.2, random_state=42)"
      ],
      "metadata": {
        "colab": {
          "base_uri": "https://localhost:8080/"
        },
        "id": "uhsQ89vnwkG4",
        "outputId": "6bb7e2fb-fd6d-4899-e719-e9e3240e9798"
      },
      "execution_count": 6,
      "outputs": [
        {
          "output_type": "stream",
          "name": "stderr",
          "text": [
            "[nltk_data] Downloading package punkt_tab to /root/nltk_data...\n",
            "[nltk_data]   Unzipping tokenizers/punkt_tab.zip.\n",
            "[nltk_data] Downloading package wordnet to /root/nltk_data...\n",
            "[nltk_data]   Package wordnet is already up-to-date!\n"
          ]
        }
      ]
    },
    {
      "cell_type": "code",
      "source": [
        "#Transforming data to numerical vectors using a pretrained word embedding called Word2vec\n",
        "train_df1, test_df1 = df1\n",
        "train_df2, test_df2 = df2\n",
        "all_text = train_df1['text'].tolist() + test_df1['text'].tolist() + train_df2['text'].tolist() + test_df2['text'].tolist()\n",
        "word_vectors = Word2Vec(sentences=all_text, window=5, min_count=5, workers=4)\n",
        "# Save the model\n",
        "word_vectors.wv.save_word2vec_format(\"word2vec_model.txt\", binary=False)\n",
        "# Access word vectors\n",
        "vector = word_vectors.wv['example']"
      ],
      "metadata": {
        "id": "5J_yuXBm8gC7"
      },
      "execution_count": 7,
      "outputs": []
    },
    {
      "cell_type": "code",
      "source": [
        "# Function to convert a list of tokens to a single vector\n",
        "def document_vector(tokens, model):\n",
        "  \"\"\"\n",
        "  Calculate the average word vector for a list of tokens\n",
        "  \"\"\"\n",
        "  vectors = [model.wv[token] for token in tokens if token in model.wv]\n",
        "  if vectors:\n",
        "    return np.mean(vectors, axis=0)  # Average the word vectors\n",
        "  else:\n",
        "    return np.zeros(model.vector_size)  # Handle empty documents\n"
      ],
      "metadata": {
        "id": "lpXCW6BL_n-0"
      },
      "execution_count": 8,
      "outputs": []
    },
    {
      "cell_type": "code",
      "source": [
        "# Create feature vectors for both datasets\n",
        "train_df1= np.array([document_vector(tokens, word_vectors) for tokens in df1[0]['text']])\n",
        "train_df2= np.array([document_vector(tokens, word_vectors) for tokens in df2[0]['text']])\n",
        "X_train = np.vstack([train_df1, train_df2])\n",
        "\n",
        "test_df1 = np.array([document_vector(tokens, word_vectors) for tokens in test_df1['text']])\n",
        "test_df2 = np.array([document_vector(tokens, word_vectors) for tokens in test_df2['text']])\n",
        "X_test = np.vstack([test_df1, test_df2])\n",
        "\n",
        "y_train = [0] * len(df1[0]) + [1] * len(df2[0])  # 0 for fake, 1 for true\n",
        "y_test = [0] * len(test_df1) + [1] * len(test_df2)\n",
        "# Convert to numpy arrays\n",
        "y_train = np.array(y_train)\n",
        "y_test = np.array(y_test)"
      ],
      "metadata": {
        "id": "LzgsPdrY_uhb"
      },
      "execution_count": 13,
      "outputs": []
    },
    {
      "cell_type": "code",
      "source": [
        "#Building the model\n",
        "svm = SVC(kernel=\"rbf\", gamma=0.5, C=1.0)\n",
        "#Fit the model\n",
        "svm=svm.fit(X_train,y_train)"
      ],
      "metadata": {
        "id": "Acx3h2nR-RB1"
      },
      "execution_count": 14,
      "outputs": []
    },
    {
      "cell_type": "code",
      "source": [
        "y_pred = svm.predict(X_test)\n",
        "accuracy_score(y_test,y_pred)\n",
        "cm = confusion_matrix(y_test,y_pred)b\n",
        "plt.imshow(cm, interpolation='nearest', cmap=plt.cm.Blues)\n",
        "plt.title('Confusion Matrix')\n",
        "plt.colorbar()\n",
        "print(classification_report(y_test,y_pred))\n",
        "print(precision_score(y_test,y_pred))\n",
        "print(recall_score(y_test,y_pred))\n",
        "print(f1_score(y_test,y_pred))\n",
        "plt.show()"
      ],
      "metadata": {
        "id": "IZooTXBv6W7b",
        "colab": {
          "base_uri": "https://localhost:8080/",
          "height": 660
        },
        "outputId": "2ae9e3c3-e9bb-4aa1-a83b-71ef0359c6ac"
      },
      "execution_count": 15,
      "outputs": [
        {
          "output_type": "stream",
          "name": "stdout",
          "text": [
            "              precision    recall  f1-score   support\n",
            "\n",
            "           0       1.00      0.99      0.99      4697\n",
            "           1       0.99      0.99      0.99      4284\n",
            "\n",
            "    accuracy                           0.99      8981\n",
            "   macro avg       0.99      0.99      0.99      8981\n",
            "weighted avg       0.99      0.99      0.99      8981\n",
            "\n",
            "0.9923166472642607\n",
            "0.9948646125116714\n",
            "0.9935889963865252\n"
          ]
        },
        {
          "output_type": "display_data",
          "data": {
            "text/plain": [
              "<Figure size 640x480 with 2 Axes>"
            ],
            "image/png": "[encoded data removed]"
          },
          "metadata": {}
        }
      ]
    },
    {
      "cell_type": "code",
      "source": [
        "with open('word2vec_model.txt', 'r') as f:\n",
        "    lines = f.readlines()\n",
        "def predict_news(news_text):\n",
        "    tokens = nltk.word_tokenize(news_text)\n",
        "    vector = document_vector(tokens, word_vectors)\n",
        "    prediction = svm.predict([vector])\n",
        "    if prediction[0] == 0:\n",
        "        return \"Fake News\"\n",
        "    else:\n",
        "        return \"True News\"\n",
        "interface = gr.Interface(\n",
        "    fn=predict_news,\n",
        "    inputs=\"text\",\n",
        "    outputs=\"text\",\n",
        "    title=\"Fake News Detection\",\n",
        "    description=\"Enter a news article to classify it as Real or Fake.\",\n",
        "    examples = [\" Donald Trump Sends Out Embarrassing New Year’s Eve Message; This is Disturbing,Donald Trump just couldn t wish all Americans a Happy New Year and leave it at that. Instead, he had to give a shout out to his enemies, haters and  the very dishonest fake news media.  The former reality show star had just one job to do and he couldn t do it. As our Country rapidly grows stronger and smarter, I want to wish all of my friends, supporters, enemies, haters, and even the very dishonest Fake News Media, a Happy and Healthy New Year,  President Angry Pants tweeted.  2018 will be a great year for America! As our Country rapidly grows stronger and smarter, I want to wish all of my friends, supporters, enemies, haters, and even the very dishonest Fake News Media, a Happy and Healthy New Year.\", \"As U.S. budget fight looms, Republicans flip their fiscal script WASHINGTON (Reuters) - The head of a conservative Republican faction in the U.S. Congress, who voted this month for a huge expansion of the national debt to pay for tax cuts, called himself a “fiscal conservative” on Sunday and urged budget restraint in 2018. In keeping with a sharp pivot under way among Republicans, U.S. Representative Mark Meadows, speaking on CBS’ “Face the Nation,” drew a hard line on federal spending, which lawmakers are bracing to do battle over in January. When they return from the holidays on Wednesday, lawmakers will begin trying to pass a federal budget in a fight likely to be linked to other issues, such as immigration policy, even as the November congressional election campaigns approach in which Republicans will seek to keep control of Congress. President Donald Trump and his Republicans want a big budget increase in military spending, while Democrats also want proportional increases for non-defense “discretionary” spending on programs that support education, scientific research, infrastructure, public health and environmental protection. “The (Trump) administration has already been willing to say: ‘We’re going to increase non-defense discretionary spending ...\"]\n",
        ")\n",
        "interface.launch()"
      ],
      "metadata": {
        "id": "t64yGzks7WAP",
        "colab": {
          "base_uri": "https://localhost:8080/",
          "height": 626
        },
        "outputId": "93e1af51-b551-4a6d-ca43-314ca1c8f760"
      },
      "execution_count": 32,
      "outputs": [
        {
          "output_type": "stream",
          "name": "stdout",
          "text": [
            "Running Gradio in a Colab notebook requires sharing enabled. Automatically setting `share=True` (you can turn this off by setting `share=False` in `launch()` explicitly).\n",
            "\n",
            "Colab notebook detected. To show errors in colab notebook, set debug=True in launch()\n",
            "* Running on public URL: https://363b8ddfda16ee8273.gradio.live\n",
            "\n",
            "This share link expires in 72 hours. For free permanent hosting and GPU upgrades, run `gradio deploy` from the terminal in the working directory to deploy to Hugging Face Spaces (https://huggingface.co/spaces)\n"
          ]
        },
        {
          "output_type": "display_data",
          "data": {
            "text/plain": [
              "<IPython.core.display.HTML object>"
            ],
            "text/html": [
              "<div><iframe src=\"https://363b8ddfda16ee8273.gradio.live\" width=\"100%\" height=\"500\" allow=\"autoplay; camera; microphone; clipboard-read; clipboard-write;\" frameborder=\"0\" allowfullscreen></iframe></div>"
            ]
          },
          "metadata": {}
        },
        {
          "output_type": "execute_result",
          "data": {
            "text/plain": []
          },
          "metadata": {},
          "execution_count": 32
        }
      ]
    },
    {
      "cell_type": "code",
      "source": [],
      "metadata": {
        "id": "5XUIVioU19sA"
      },
      "execution_count": null,
      "outputs": []
    }
  ]
}